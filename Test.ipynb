{
 "cells": [
  {
   "cell_type": "code",
   "execution_count": 3,
   "metadata": {},
   "outputs": [
    {
     "name": "stdout",
     "output_type": "stream",
     "text": [
      "Enter a number of two digits:77\n",
      "8.774964387392123\n"
     ]
    }
   ],
   "source": [
    "import math\n",
    "x = input(\"Enter a number of two digits:\")\n",
    "y = math.sqrt(float(x))\n",
    "print(y)"
   ]
  },
  {
   "cell_type": "code",
   "execution_count": 2,
   "metadata": {},
   "outputs": [
    {
     "name": "stdout",
     "output_type": "stream",
     "text": [
      "Enter a number for checking:1234554321\n",
      "True\n"
     ]
    }
   ],
   "source": [
    "x = input(\"Enter a number for checking:\")\n",
    "def check(x):\n",
    "    y = x [::-1]\n",
    "    return (x == y)\n",
    "z = check(x)\n",
    "print (z)"
   ]
  },
  {
   "cell_type": "code",
   "execution_count": 28,
   "metadata": {},
   "outputs": [
    {
     "name": "stdout",
     "output_type": "stream",
     "text": [
      "Enter a string:gdorh\n",
      "<class 'str'>\n",
      "<class 'str'>\n",
      "dghor\n",
      "\t d\n",
      "\t g\n",
      "\t h\n",
      "\t o\n",
      "\t r\n"
     ]
    }
   ],
   "source": [
    "y = input(\"Enter a string:\")\n",
    "print(type(y))\n",
    "v = ''.join(sorted(y))\n",
    "print(type(v))\n",
    "print(v)\n",
    "for x in v:\n",
    "    print (x)"
   ]
  },
  {
   "cell_type": "code",
   "execution_count": 4,
   "metadata": {},
   "outputs": [],
   "source": [
    "import turtle\n",
    "a = turtle.Turtle()\n",
    "side = 30\n",
    "for j in range(side):\n",
    "    a.fd(10)\n",
    "    a.lt(360/side)\n",
    "    \n",
    "for j in range(side):\n",
    "    a.fd(10)\n",
    "    a.rt(360/side)\n",
    "\n",
    "a.fd(700)"
   ]
  },
  {
   "cell_type": "code",
   "execution_count": 1,
   "metadata": {},
   "outputs": [
    {
     "name": "stdout",
     "output_type": "stream",
     "text": [
      "1\n",
      "2\n",
      "3\n",
      "4\n",
      "5\n",
      "i is no longer less than 6 so we stopped\n"
     ]
    }
   ],
   "source": [
    "i = 1\n",
    "while i < 6:\n",
    "  print(i)\n",
    "  i += 1\n",
    "else:\n",
    "  print(\"i is no longer less than 6 so we stopped\")"
   ]
  },
  {
   "cell_type": "code",
   "execution_count": 15,
   "metadata": {},
   "outputs": [
    {
     "name": "stdout",
     "output_type": "stream",
     "text": [
      "Enter the first number 4\n",
      "Enter the second number 4\n",
      "Enter the third number 4\n",
      "0\n"
     ]
    }
   ],
   "source": [
    "#\n",
    "x = int(input(\"Enter the first number \"))\n",
    "y = int(input(\"Enter the second number \"))\n",
    "z = int(input(\"Enter the third number \"))\n",
    "\n",
    "def summ(a,b,c):\n",
    "    if (a==b==c):\n",
    "        return 0\n",
    "    elif (b==c): \n",
    "        return a\n",
    "    elif (a==c): \n",
    "        return b\n",
    "    elif (a==b):\n",
    "        return c\n",
    "    else :\n",
    "        return (a+b+c)\n",
    "    \n",
    "w = summ(x,y,z)\n",
    "print(w)"
   ]
  },
  {
   "cell_type": "code",
   "execution_count": 6,
   "metadata": {},
   "outputs": [
    {
     "name": "stdout",
     "output_type": "stream",
     "text": [
      "Enter the word: apppppppppple\n",
      "Enter the alphabet: p\n",
      "apppppppppple has 10 's\n"
     ]
    }
   ],
   "source": [
    "word = str(input(\"Enter the word: \"))\n",
    "char = str(input(\"Enter the alphabet: \"))\n",
    "letter = 0\n",
    "\n",
    "def mywordcount (word, char):\n",
    "    count = 0\n",
    "    for letter in word:\n",
    "        if (letter==char):\n",
    "            count += 1\n",
    "                \n",
    "    return count\n",
    "        \n",
    "y = mywordcount (word, char)\n",
    "print((\"{} has {} 's\").format(word, y))"
   ]
  },
  {
   "cell_type": "code",
   "execution_count": 14,
   "metadata": {},
   "outputs": [
    {
     "name": "stdout",
     "output_type": "stream",
     "text": [
      "Initial number is zero\n",
      "0\n",
      "1\n",
      "2\n",
      "3\n",
      "4\n",
      "5\n",
      "6\n",
      "7\n",
      "8\n",
      "9\n",
      "10\n",
      "11\n",
      "12\n",
      "13\n",
      "14\n",
      "15\n",
      "16\n",
      "17\n",
      "18\n",
      "19\n",
      "20\n",
      "21\n",
      "22\n",
      "23\n",
      "24\n",
      "25\n",
      "26\n",
      "27\n",
      "28\n",
      "29\n",
      "30\n",
      "31\n",
      "32\n",
      "33\n",
      "34\n",
      "35\n",
      "36\n",
      "37\n",
      "38\n",
      "39\n",
      "40\n",
      "41\n",
      "42\n",
      "43\n",
      "44\n",
      "45\n",
      "46\n",
      "47\n",
      "48\n",
      "49\n",
      "50\n",
      "51\n",
      "52\n",
      "53\n",
      "54\n",
      "55\n",
      "56\n",
      "57\n",
      "58\n",
      "59\n",
      "60\n",
      "61\n",
      "62\n",
      "63\n",
      "64\n",
      "65\n",
      "66\n",
      "67\n",
      "68\n",
      "69\n",
      "70\n",
      "71\n",
      "72\n",
      "73\n",
      "74\n",
      "75\n",
      "76\n",
      "77\n",
      "78\n",
      "79\n",
      "80\n",
      "81\n",
      "82\n",
      "83\n",
      "84\n",
      "85\n",
      "86\n",
      "87\n",
      "88\n",
      "89\n",
      "90\n",
      "91\n",
      "92\n",
      "93\n",
      "94\n",
      "95\n",
      "96\n",
      "97\n",
      "98\n",
      "99\n",
      "100\n",
      "--- 0.003032207489013672 seconds ---\n"
     ]
    }
   ],
   "source": [
    "import time\n",
    "start_time = time.time()\n",
    "print(\"Initial number is zero\")\n",
    "number = 0\n",
    "\n",
    "def countup (number):\n",
    "    print (number)\n",
    "    if number < 100:\n",
    "      countup (number+1)\n",
    "      \n",
    "countup(number)\n",
    "print(\"--- %s seconds ---\" % (time.time() - start_time))"
   ]
  },
  {
   "cell_type": "code",
   "execution_count": 17,
   "metadata": {},
   "outputs": [
    {
     "name": "stdout",
     "output_type": "stream",
     "text": [
      "k\n",
      "1\n",
      "2\n",
      "k\n",
      "2\n",
      "4\n",
      "k\n",
      "4\n",
      "8\n",
      "k\n",
      "8\n",
      "16\n"
     ]
    }
   ],
   "source": [
    "var = 1\n",
    "while var < 10:\n",
    "    print ('k')\n",
    "    print (var)\n",
    "    var = var << 1\n",
    "    print (var)\n",
    "    "
   ]
  },
  {
   "cell_type": "code",
   "execution_count": 1,
   "metadata": {},
   "outputs": [
    {
     "name": "stdout",
     "output_type": "stream",
     "text": [
      "[1, 2, 3, 3, 4]\n",
      "[1, 3, 3, 4]\n"
     ]
    }
   ],
   "source": [
    "val = [1,2,3,4]\n",
    "val.insert(2,3)\n",
    "print (val)\n",
    "del val[1]\n",
    "print (val)"
   ]
  },
  {
   "cell_type": "code",
   "execution_count": 18,
   "metadata": {},
   "outputs": [
    {
     "name": "stdout",
     "output_type": "stream",
     "text": [
      "4 5 3 2 6\n",
      "20\n"
     ]
    }
   ],
   "source": [
    "def func(*args):\n",
    "    s = 0\n",
    "    print(*args)\n",
    "    for i in range(len(args)):\n",
    "        s = s+args[i]\n",
    "    print (s)\n",
    "    \n",
    "func(4,5,3,2,6)"
   ]
  },
  {
   "cell_type": "code",
   "execution_count": 29,
   "metadata": {},
   "outputs": [
    {
     "name": "stdout",
     "output_type": "stream",
     "text": [
      "0\n",
      "1\n",
      "2\n",
      "3\n"
     ]
    }
   ],
   "source": [
    "for x in range(4):\n",
    "    print(x)"
   ]
  },
  {
   "cell_type": "code",
   "execution_count": null,
   "metadata": {},
   "outputs": [],
   "source": []
  }
 ],
 "metadata": {
  "kernelspec": {
   "display_name": "Python 3",
   "language": "python",
   "name": "python3"
  },
  "language_info": {
   "codemirror_mode": {
    "name": "ipython",
    "version": 3
   },
   "file_extension": ".py",
   "mimetype": "text/x-python",
   "name": "python",
   "nbconvert_exporter": "python",
   "pygments_lexer": "ipython3",
   "version": "3.8.1"
  }
 },
 "nbformat": 4,
 "nbformat_minor": 4
}
